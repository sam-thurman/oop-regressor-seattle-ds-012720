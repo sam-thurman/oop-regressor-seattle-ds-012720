{
 "cells": [
  {
   "cell_type": "code",
   "execution_count": 1,
   "metadata": {},
   "outputs": [],
   "source": [
    "import pandas as pd\n",
    "import numpy as np\n",
    "from sklearn.model_selection import train_test_split"
   ]
  },
  {
   "cell_type": "code",
   "execution_count": 9,
   "metadata": {},
   "outputs": [],
   "source": [
    "df = pd.DataFrame(np.array([[0.03456305, 0.73344279, 0.83698467, 0.80022716],\n",
    "                            [0.07772264, 0.59687277, 0.23005054, 0.94049597],\n",
    "                            [0.65941026, 0.9521347, 0.98438789, 0.06182956],\n",
    "                            [0.2296315, 0.7742189, 0.98567224, 0.05520582],\n",
    "                            [0.1603394, 0.03856181, 0.83716034, 0.67256781],\n",
    "                            [0.61952868, 0.16599499, 0.37051384, 0.71050288],\n",
    "                            [0.28943516, 0.74314934, 0.87326874, 0.40335732],\n",
    "                            [0.01063538, 0.09963898, 0.73835912, 0.82947293],\n",
    "                            [0.88033203, 0.54813793, 0.79445131, 0.0892636],\n",
    "                            [0.65128662, 0.79598075, 0.24360926, 0.78860746],\n",
    "                            [0.86367495, 0.81685485, 0.80959694, 0.41850091],\n",
    "                            [0.50656286, 0.28067404, 0.12122773, 0.31382457],\n",
    "                            [0.86192731, 0.33515889, 0.91454857, 0.45355265],\n",
    "                            [0.1084613, 0.56132593, 0.07804713, 0.78209782],\n",
    "                            [0.34145706, 0.95703161, 0.89986143, 0.49346681],\n",
    "                            [0.69771423, 0.26430632, 0.0236533, 0.78557031],\n",
    "                            [0.38369573, 0.06686051, 0.74635996, 0.42010395],\n",
    "                            [0.34493483, 0.48406464, 0.13753143, 0.01064768],\n",
    "                            [0.67557827, 0.76489959, 0.77993042, 0.29599617],\n",
    "                            [0.02988845, 0.98354185, 0.67689794, 0.70413554]]),\n",
    "                  columns=[\"target\", \"a\", \"b\", \"c\"])\n",
    "X = df.drop(\"target\", axis=1)\n",
    "y = df[\"target\"]"
   ]
  },
  {
   "cell_type": "code",
   "execution_count": 70,
   "metadata": {},
   "outputs": [],
   "source": [
    "class MeanRegressor:\n",
    "\n",
    "    def fit(self, X, y):\n",
    "        self.y_mean = np.mean(y)\n",
    "\n",
    "    def predict(self, X):\n",
    "        y_means = []\n",
    "        for _ in range(len(X.iloc[:,0])):\n",
    "            y_means.append(self.y_mean)\n",
    "        return y_means\n",
    "\n",
    "    def score(self, X, y):\n",
    "        y = np.array(y)\n",
    "        y_pred = self.predict(X)\n",
    "        rss = 0\n",
    "        tss = 0\n",
    "        for i in range(0, len(X.iloc[:,0])):\n",
    "            rss += (y[i] - y_pred[i])**2\n",
    "            tss += (y[i] - np.mean(y))**2\n",
    "            print(rss, tss)\n",
    "        print(rss)\n",
    "        return 1 - (rss/tss)\n"
   ]
  },
  {
   "cell_type": "code",
   "execution_count": 71,
   "metadata": {},
   "outputs": [],
   "source": [
    "sam = MeanRegressor()"
   ]
  },
  {
   "cell_type": "code",
   "execution_count": 72,
   "metadata": {},
   "outputs": [],
   "source": [
    "X_train, X_test, y_train, y_test = train_test_split(X, y, random_state=2019)"
   ]
  },
  {
   "cell_type": "code",
   "execution_count": 73,
   "metadata": {},
   "outputs": [],
   "source": [
    "sam.fit(X_train, y_train)"
   ]
  },
  {
   "cell_type": "code",
   "execution_count": 74,
   "metadata": {},
   "outputs": [],
   "source": [
    "# sam.predict(X_test)"
   ]
  },
  {
   "cell_type": "code",
   "execution_count": 75,
   "metadata": {},
   "outputs": [
    {
     "data": {
      "text/plain": [
       "(array([0.65128662, 0.34145706, 0.07772264, 0.50656286, 0.28943516]),\n",
       " array([[0.79598075, 0.24360926, 0.78860746],\n",
       "        [0.95703161, 0.89986143, 0.49346681],\n",
       "        [0.59687277, 0.23005054, 0.94049597],\n",
       "        [0.28067404, 0.12122773, 0.31382457],\n",
       "        [0.74314934, 0.87326874, 0.40335732]]))"
      ]
     },
     "execution_count": 75,
     "metadata": {},
     "output_type": "execute_result"
    }
   ],
   "source": [
    "np.array(y_test), np.array(X_test)"
   ]
  },
  {
   "cell_type": "code",
   "execution_count": 77,
   "metadata": {},
   "outputs": [
    {
     "name": "stdout",
     "output_type": "stream",
     "text": [
      "0.04930882361303359 0.04930882361303359\n",
      "0.05218807197187598 0.05218807197187598\n",
      "0.12892535892761778 0.12892535892761778\n",
      "0.17207414466330598 0.17207414466330598\n",
      "0.18061551381904878 0.18061551381904878\n",
      "0.34664398000131325 0.34664398000131325\n",
      "0.5287330661866778 0.5287330661866778\n",
      "0.6369037097872692 0.6369037097872692\n",
      "0.7991445475876201 0.7991445475876201\n",
      "0.9808937947508506 0.9808937947508506\n",
      "1.161155986320845 1.161155986320845\n",
      "1.2289432492687014 1.2289432492687014\n",
      "1.262130732864861 1.262130732864861\n",
      "1.3188813651134448 1.3188813651134448\n",
      "1.5151105830039844 1.5151105830039844\n",
      "1.5151105830039844\n"
     ]
    },
    {
     "data": {
      "text/plain": [
       "0.0"
      ]
     },
     "execution_count": 77,
     "metadata": {},
     "output_type": "execute_result"
    }
   ],
   "source": [
    "# sam.score(X_train, y_train)\n",
    "sam.score(X_train, y_train)\n",
    "# len(z)"
   ]
  },
  {
   "cell_type": "code",
   "execution_count": null,
   "metadata": {},
   "outputs": [],
   "source": []
  }
 ],
 "metadata": {
  "kernelspec": {
   "display_name": "Python [conda env:learn-env] *",
   "language": "python",
   "name": "conda-env-learn-env-py"
  },
  "language_info": {
   "codemirror_mode": {
    "name": "ipython",
    "version": 3
   },
   "file_extension": ".py",
   "mimetype": "text/x-python",
   "name": "python",
   "nbconvert_exporter": "python",
   "pygments_lexer": "ipython3",
   "version": "3.6.9"
  }
 },
 "nbformat": 4,
 "nbformat_minor": 4
}
